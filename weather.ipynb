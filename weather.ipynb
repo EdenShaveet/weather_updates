{
  "nbformat": 4,
  "nbformat_minor": 0,
  "metadata": {
    "colab": {
      "name": "weather.ipynb",
      "provenance": [],
      "authorship_tag": "ABX9TyN0japvawhT5rhjmHwO/pDJ"
    },
    "kernelspec": {
      "name": "python3",
      "display_name": "Python 3"
    },
    "language_info": {
      "name": "python"
    }
  },
  "cells": [
    {
      "cell_type": "markdown",
      "source": [
        "# Package & dependency management"
      ],
      "metadata": {
        "id": "yFsC7sQHqkpm"
      }
    },
    {
      "cell_type": "code",
      "source": [
        "from bs4 import BeautifulSoup\n",
        "import requests\n",
        "headers = {'User-Agent': 'Mozilla/5.0 (Windows NT 10.0; Win64; x64) AppleWebKit/537.36 (KHTML, like Gecko) Chrome/58.0.3029.110 Safari/537.3'}"
      ],
      "metadata": {
        "id": "-mNqX3F2qiK_"
      },
      "execution_count": 32,
      "outputs": []
    },
    {
      "cell_type": "markdown",
      "source": [
        "# Retrieval function"
      ],
      "metadata": {
        "id": "BK-lPUQ-quZz"
      }
    },
    {
      "cell_type": "code",
      "source": [
        "def weather(city):\n",
        "    city=city.replace(\" \",\"+\")\n",
        "    res = requests.get(f'https://www.google.com/search?q={city}&oq={city}&aqs=chrome.0.35i39l2j0l4j46j69i60.6128j1j7&sourceid=chrome&ie=UTF-8',headers=headers)\n",
        "    print(\"Searching...\\n\")\n",
        "    soup = BeautifulSoup(res.text,'html.parser')   \n",
        "    location = soup.select('#wob_loc')[0].getText().strip()  \n",
        "    time = soup.select('#wob_dts')[0].getText().strip()       \n",
        "    info = soup.select('#wob_dc')[0].getText().strip() \n",
        "    weather = soup.select('#wob_tm')[0].getText().strip()\n",
        "    print(location)\n",
        "    print(time)\n",
        "    print(info)\n",
        "    print(weather+\"°F\")"
      ],
      "metadata": {
        "id": "1egr4Ccvl8nl"
      },
      "execution_count": 33,
      "outputs": []
    },
    {
      "cell_type": "markdown",
      "source": [
        "# Command line input & output"
      ],
      "metadata": {
        "id": "9U4Ogcthq41S"
      }
    },
    {
      "cell_type": "code",
      "source": [
        "print(\"Retrieve the weather from any U.S. city or town!\")\n",
        "city=input(\"City/Town Name and U.S. State:  \")\n",
        "city=city+\" weather\"\n",
        "weather(city)"
      ],
      "metadata": {
        "id": "Mi8CZhAPq0I2"
      },
      "execution_count": null,
      "outputs": []
    }
  ]
}